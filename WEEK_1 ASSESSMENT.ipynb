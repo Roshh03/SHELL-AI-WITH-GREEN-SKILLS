{
  "nbformat": 4,
  "nbformat_minor": 0,
  "metadata": {
    "colab": {
      "provenance": []
    },
    "kernelspec": {
      "name": "python3",
      "display_name": "Python 3"
    },
    "language_info": {
      "name": "python"
    }
  },
  "cells": [
    {
      "cell_type": "code",
      "execution_count": 49,
      "metadata": {
        "id": "Yivb-uStFmom"
      },
      "outputs": [],
      "source": [
        "#IMPORTING LIBRARIES\n",
        "import pandas as pd\n",
        "import numpy as np\n",
        "import seaborn as sns\n",
        "import matplotlib.pyplot as plt\n",
        "\n",
        "from sklearn.model_selection import train_test_split,GridSearchCV\n",
        "from sklearn.preprocessing import StandardScaler\n",
        "from sklearn.ensemble import RandomForestRegressor\n",
        "from sklearn.metrics import mean_squared_error,r2_score\n",
        "import joblib"
      ]
    },
    {
      "cell_type": "code",
      "source": [
        "# LOADING DATASET\n",
        "file = '/content/DATASET.xlsx'\n",
        "years = range(2010, 2017)\n"
      ],
      "metadata": {
        "id": "rKKTgXW6dNLH"
      },
      "execution_count": 50,
      "outputs": []
    },
    {
      "cell_type": "code",
      "source": [
        "# INITIALIZE EMPTY LISTS FOR COMMODITY AND INDUSTRY DATA\n",
        "all_com_data = []\n",
        "all_ind_data = []\n",
        "all_data=[]\n",
        "\n",
        "# READ AND COMBINE DATA FROM MULTIPLE SHEETS\n",
        "for year in years:\n",
        "    data_com = pd.read_excel(file, sheet_name=f'{year}_Detail_Commodity', engine='openpyxl')\n",
        "    data_ind = pd.read_excel(file, sheet_name=f'{year}_Detail_Industry', engine='openpyxl')\n",
        "\n",
        "    # ADD YEAR COLUMN FOR REFERENCE\n",
        "    data_com['Year'] = year\n",
        "    data_ind['Year'] = year\n",
        "\n",
        "    # STRIP WHITESPACES FROM COLUMN NAMES\n",
        "    data_com.columns = data_com.columns.str.strip()\n",
        "    data_ind.columns = data_ind.columns.str.strip()\n",
        "\n",
        "    all_com_data.append(data_com)\n",
        "    all_ind_data.append(data_ind)\n",
        "\n",
        "# COMBINE ALL YEARS INTO SINGLE DATAFRAMES\n",
        "df_com = pd.concat(all_com_data, ignore_index=True)\n",
        "df_ind = pd.concat(all_ind_data, ignore_index=True)\n",
        "all_data.append(pd.concat([df_com,df_ind],ignore_index=True))\n"
      ],
      "metadata": {
        "id": "jVH4lKkRdNOj"
      },
      "execution_count": 51,
      "outputs": []
    },
    {
      "cell_type": "code",
      "source": [
        "print(len(all_data))\n",
        "print(all_data[0])\n"
      ],
      "metadata": {
        "colab": {
          "base_uri": "https://localhost:8080/"
        },
        "id": "eIru0P3yeRBh",
        "outputId": "67d38531-ad53-4bff-9a6a-b764865ee39f"
      },
      "execution_count": 55,
      "outputs": [
        {
          "output_type": "stream",
          "name": "stdout",
          "text": [
            "1\n",
            "      Commodity Code                                     Commodity Name  \\\n",
            "0             1111A0  Fresh soybeans, canola, flaxseeds, and other o...   \n",
            "1             1111A0  Fresh soybeans, canola, flaxseeds, and other o...   \n",
            "2             1111A0  Fresh soybeans, canola, flaxseeds, and other o...   \n",
            "3             1111A0  Fresh soybeans, canola, flaxseeds, and other o...   \n",
            "4             1111B0          Fresh wheat, corn, rice, and other grains   \n",
            "...              ...                                                ...   \n",
            "22087            NaN                                                NaN   \n",
            "22088            NaN                                                NaN   \n",
            "22089            NaN                                                NaN   \n",
            "22090            NaN                                                NaN   \n",
            "22091            NaN                                                NaN   \n",
            "\n",
            "            Substance                               Unit  \\\n",
            "0      carbon dioxide       kg/2018 USD, purchaser price   \n",
            "1             methane       kg/2018 USD, purchaser price   \n",
            "2       nitrous oxide       kg/2018 USD, purchaser price   \n",
            "3          other GHGs  kg CO2e/2018 USD, purchaser price   \n",
            "4      carbon dioxide       kg/2018 USD, purchaser price   \n",
            "...               ...                                ...   \n",
            "22087      other GHGs  kg CO2e/2018 USD, purchaser price   \n",
            "22088  carbon dioxide       kg/2018 USD, purchaser price   \n",
            "22089         methane       kg/2018 USD, purchaser price   \n",
            "22090   nitrous oxide       kg/2018 USD, purchaser price   \n",
            "22091      other GHGs  kg CO2e/2018 USD, purchaser price   \n",
            "\n",
            "       Supply Chain Emission Factors without Margins  \\\n",
            "0                                              0.398   \n",
            "1                                              0.001   \n",
            "2                                              0.002   \n",
            "3                                              0.002   \n",
            "4                                              0.659   \n",
            "...                                              ...   \n",
            "22087                                          0.009   \n",
            "22088                                          0.000   \n",
            "22089                                          0.000   \n",
            "22090                                          0.000   \n",
            "22091                                          0.000   \n",
            "\n",
            "       Margins of Supply Chain Emission Factors  \\\n",
            "0                                         0.073   \n",
            "1                                         0.001   \n",
            "2                                         0.000   \n",
            "3                                         0.000   \n",
            "4                                         0.081   \n",
            "...                                         ...   \n",
            "22087                                     0.000   \n",
            "22088                                     0.000   \n",
            "22089                                     0.000   \n",
            "22090                                     0.000   \n",
            "22091                                     0.000   \n",
            "\n",
            "       Supply Chain Emission Factors with Margins  Unnamed: 7  \\\n",
            "0                                           0.470         NaN   \n",
            "1                                           0.002         NaN   \n",
            "2                                           0.002         NaN   \n",
            "3                                           0.002         NaN   \n",
            "4                                           0.740         NaN   \n",
            "...                                           ...         ...   \n",
            "22087                                       0.009         NaN   \n",
            "22088                                       0.000         NaN   \n",
            "22089                                       0.000         NaN   \n",
            "22090                                       0.000         NaN   \n",
            "22091                                       0.000         NaN   \n",
            "\n",
            "       DQ ReliabilityScore of Factors without Margins  \\\n",
            "0                                                   4   \n",
            "1                                                   4   \n",
            "2                                                   4   \n",
            "3                                                   3   \n",
            "4                                                   4   \n",
            "...                                               ...   \n",
            "22087                                               4   \n",
            "22088                                               4   \n",
            "22089                                               4   \n",
            "22090                                               4   \n",
            "22091                                               4   \n",
            "\n",
            "       DQ TemporalCorrelation of Factors without Margins  \\\n",
            "0                                                      3   \n",
            "1                                                      3   \n",
            "2                                                      3   \n",
            "3                                                      3   \n",
            "4                                                      3   \n",
            "...                                                  ...   \n",
            "22087                                                  2   \n",
            "22088                                                  2   \n",
            "22089                                                  2   \n",
            "22090                                                  2   \n",
            "22091                                                  2   \n",
            "\n",
            "       DQ GeographicalCorrelation of Factors without Margins  \\\n",
            "0                                                      1       \n",
            "1                                                      1       \n",
            "2                                                      1       \n",
            "3                                                      1       \n",
            "4                                                      1       \n",
            "...                                                  ...       \n",
            "22087                                                  1       \n",
            "22088                                                  1       \n",
            "22089                                                  1       \n",
            "22090                                                  1       \n",
            "22091                                                  1       \n",
            "\n",
            "       DQ TechnologicalCorrelation of Factors without Margins  \\\n",
            "0                                                      4        \n",
            "1                                                      1        \n",
            "2                                                      4        \n",
            "3                                                      3        \n",
            "4                                                      4        \n",
            "...                                                  ...        \n",
            "22087                                                  5        \n",
            "22088                                                  5        \n",
            "22089                                                  5        \n",
            "22090                                                  5        \n",
            "22091                                                  5        \n",
            "\n",
            "       DQ DataCollection of Factors without Margins  Year Industry Code  \\\n",
            "0                                                 1  2010           NaN   \n",
            "1                                                 1  2010           NaN   \n",
            "2                                                 1  2010           NaN   \n",
            "3                                                 1  2010           NaN   \n",
            "4                                                 1  2010           NaN   \n",
            "...                                             ...   ...           ...   \n",
            "22087                                             1  2016        813B00   \n",
            "22088                                             1  2016        814000   \n",
            "22089                                             1  2016        814000   \n",
            "22090                                             1  2016        814000   \n",
            "22091                                             1  2016        814000   \n",
            "\n",
            "                                           Industry Name  \n",
            "0                                                    NaN  \n",
            "1                                                    NaN  \n",
            "2                                                    NaN  \n",
            "3                                                    NaN  \n",
            "4                                                    NaN  \n",
            "...                                                  ...  \n",
            "22087  Civic, social, professional, and similar organ...  \n",
            "22088                                 Private households  \n",
            "22089                                 Private households  \n",
            "22090                                 Private households  \n",
            "22091                                 Private households  \n",
            "\n",
            "[22092 rows x 16 columns]\n"
          ]
        }
      ]
    },
    {
      "cell_type": "code",
      "source": [
        "# DATA PREPROCESSING ON INDUSTRY DATA\n",
        "df = df_ind.copy()\n",
        "df.dropna(inplace=True)  # REMOVE MISSING VALUES"
      ],
      "metadata": {
        "id": "ZOxhr6ndde55"
      },
      "execution_count": 56,
      "outputs": []
    },
    {
      "cell_type": "code",
      "source": [
        "# DEFINE TARGET COLUMN\n",
        "target_col = 'GDP (Rs. in Crore) at constant (2011-12) prices'"
      ],
      "metadata": {
        "id": "mdb_VPFbdfGu"
      },
      "execution_count": 57,
      "outputs": []
    },
    {
      "cell_type": "code",
      "source": [
        "# DATA PREPROCESSING ON INDUSTRY DATA\n",
        "df = df_ind.copy()\n",
        "\n",
        "# Check the number of non-null values in each column before dropping\n",
        "print(\"Non-null values before dropping:\")\n",
        "print(df.info())\n",
        "\n",
        "# REMOVE MISSING VALUES\n",
        "df.dropna(inplace=True)\n",
        "\n",
        "# Check the number of rows after dropping\n",
        "print(f\"\\nNumber of rows after dropping NaNs: {len(df)}\")"
      ],
      "metadata": {
        "colab": {
          "base_uri": "https://localhost:8080/"
        },
        "id": "OPeeDOuIdfKR",
        "outputId": "5de1487e-5b64-4f41-a5eb-cb1acd841c61"
      },
      "execution_count": 58,
      "outputs": [
        {
          "output_type": "stream",
          "name": "stdout",
          "text": [
            "Non-null values before dropping:\n",
            "<class 'pandas.core.frame.DataFrame'>\n",
            "RangeIndex: 11060 entries, 0 to 11059\n",
            "Data columns (total 14 columns):\n",
            " #   Column                                                  Non-Null Count  Dtype  \n",
            "---  ------                                                  --------------  -----  \n",
            " 0   Industry Code                                           11060 non-null  object \n",
            " 1   Industry Name                                           11060 non-null  object \n",
            " 2   Substance                                               11060 non-null  object \n",
            " 3   Unit                                                    11060 non-null  object \n",
            " 4   Supply Chain Emission Factors without Margins           11060 non-null  float64\n",
            " 5   Margins of Supply Chain Emission Factors                11060 non-null  float64\n",
            " 6   Supply Chain Emission Factors with Margins              11060 non-null  float64\n",
            " 7   Unnamed: 7                                              0 non-null      float64\n",
            " 8   DQ ReliabilityScore of Factors without Margins          11060 non-null  int64  \n",
            " 9   DQ TemporalCorrelation of Factors without Margins       11060 non-null  int64  \n",
            " 10  DQ GeographicalCorrelation of Factors without Margins   11060 non-null  int64  \n",
            " 11  DQ TechnologicalCorrelation of Factors without Margins  11060 non-null  int64  \n",
            " 12  DQ DataCollection of Factors without Margins            11060 non-null  int64  \n",
            " 13  Year                                                    11060 non-null  int64  \n",
            "dtypes: float64(4), int64(6), object(4)\n",
            "memory usage: 1.2+ MB\n",
            "None\n",
            "\n",
            "Number of rows after dropping NaNs: 0\n"
          ]
        }
      ]
    },
    {
      "cell_type": "code",
      "source": [],
      "metadata": {
        "id": "UnMY2KN5dvzM"
      },
      "execution_count": null,
      "outputs": []
    }
  ]
}